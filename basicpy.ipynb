{
 "cells": [
  {
   "cell_type": "code",
   "execution_count": null,
   "metadata": {},
   "outputs": [],
   "source": [
    "firstname = 'Anuchit'\n",
    "lastname = 'Sophin'\n",
    "\n",
    "fullname = firstname + ' ' + lastname\n",
    "print(fullname)\n",
    "\n",
    "# List\n",
    "color = ['red', 'green', 'blue', 'yellow'] #first index 0/ end index -1\n",
    "print(color[0])\n",
    "print(color[-1])"
   ]
  },
  {
   "cell_type": "code",
   "execution_count": null,
   "metadata": {},
   "outputs": [],
   "source": [
    "# Dictionary is json format (API)\n",
    "data = {'name':'Anuchit', 'surname':'Sophin', 'age':45}\n",
    "print(data['name'])\n",
    "print(data['surname'])\n",
    "print(data['age'])"
   ]
  },
  {
   "cell_type": "code",
   "execution_count": null,
   "metadata": {},
   "outputs": [],
   "source": [
    "# Loop\n",
    "for i in range(5):\n",
    "    print(i)\n",
    "print('--------')\n",
    "for i in range(1,5):\n",
    "    print(i)\n",
    "print('--------')\n",
    "for i in range(1,6):\n",
    "    print(i)"
   ]
  },
  {
   "cell_type": "code",
   "execution_count": null,
   "metadata": {},
   "outputs": [],
   "source": [
    "# List\n",
    "color = ['red', 'green', 'blue', 'yellow'] #first index 0/ end index -1\n",
    "for c in color:\n",
    "    print(c)\n",
    "print('--------')\n",
    "for i,c in enumerate(color):\n",
    "    print(f'{i} {c}')"
   ]
  },
  {
   "cell_type": "code",
   "execution_count": null,
   "metadata": {},
   "outputs": [],
   "source": [
    "# function\n",
    "def hello():\n",
    "    print('Hello World')\n",
    "\n",
    "hello()\n",
    "print('--------')\n",
    "def helloFriend(name, surname):\n",
    "    print(f'Hello, My name is {name} {surname}')\n",
    "\n",
    "helloFriend('Anuchit', 'Sophin')\n",
    "\n",
    "def addNumber(x, y):\n",
    "    print(x+y)\n",
    "print('--------')\n",
    "addNumber(5, 10)\n",
    "def showNameAge(name, age=45):\n",
    "    print(f'{name} {age}')\n",
    "print('--------')\n",
    "showNameAge('Anuchit Sophin')\n",
    "print('--------')\n",
    "showNameAge('Anuchit Sophin', 46)\n",
    "\n",
    "def multiNumber(x, y):\n",
    "    return x*y\n",
    "print('--------')\n",
    "result = multiNumber(10, 20)\n",
    "print(result)"
   ]
  },
  {
   "cell_type": "code",
   "execution_count": null,
   "metadata": {},
   "outputs": [],
   "source": [
    "# Class มีส่วนประกอบ 2 อย่าง: 1.Attribute:คุณสมบัติ 2.Method:หน้าที่\n"
   ]
  }
 ],
 "metadata": {
  "kernelspec": {
   "display_name": "Python 3",
   "language": "python",
   "name": "python3"
  },
  "language_info": {
   "codemirror_mode": {
    "name": "ipython",
    "version": 3
   },
   "file_extension": ".py",
   "mimetype": "text/x-python",
   "name": "python",
   "nbconvert_exporter": "python",
   "pygments_lexer": "ipython3",
   "version": "3.12.4"
  },
  "orig_nbformat": 4
 },
 "nbformat": 4,
 "nbformat_minor": 2
}
